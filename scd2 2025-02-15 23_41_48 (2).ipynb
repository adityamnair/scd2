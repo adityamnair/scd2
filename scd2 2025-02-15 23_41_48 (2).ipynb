{
 "cells": [
  {
   "cell_type": "markdown",
   "metadata": {
    "application/vnd.databricks.v1+cell": {
     "cellMetadata": {},
     "inputWidgets": {},
     "nuid": "c7d13959-4a20-4064-aa8f-b3604171d515",
     "showTitle": false,
     "tableResultSettingsMap": {},
     "title": ""
    }
   },
   "source": [
    "Upload Data to Databricks FileStore"
   ]
  },
  {
   "cell_type": "code",
   "execution_count": 0,
   "metadata": {
    "application/vnd.databricks.v1+cell": {
     "cellMetadata": {},
     "inputWidgets": {},
     "nuid": "4c24a0bf-39a0-4c5b-96b8-4852eaa5d363",
     "showTitle": false,
     "tableResultSettingsMap": {},
     "title": ""
    }
   },
   "outputs": [],
   "source": [
    "dbutils.fs.cp(\"file:/local/path/customers_20220101.csv\", \"dbfs:/FileStore/tables/customers_20220101.csv\")\n",
    "dbutils.fs.cp(\"file:/local/path/customers_20220108.csv\", \"dbfs:/FileStore/tables/customers_20220108.csv\")\n"
   ]
  },
  {
   "cell_type": "markdown",
   "metadata": {
    "application/vnd.databricks.v1+cell": {
     "cellMetadata": {},
     "inputWidgets": {},
     "nuid": "0a1f5ac5-712b-43bf-b0ee-48506e240ee4",
     "showTitle": false,
     "tableResultSettingsMap": {},
     "title": ""
    }
   },
   "source": [
    "listing out the files\n"
   ]
  },
  {
   "cell_type": "code",
   "execution_count": 0,
   "metadata": {
    "application/vnd.databricks.v1+cell": {
     "cellMetadata": {
      "byteLimit": 2048000,
      "rowLimit": 10000
     },
     "inputWidgets": {},
     "nuid": "d51ecaee-5d17-4c64-933e-34a8ab20d5dd",
     "showTitle": false,
     "tableResultSettingsMap": {},
     "title": ""
    }
   },
   "outputs": [
    {
     "output_type": "display_data",
     "data": {
      "text/html": [
       "<style scoped>\n",
       "  .table-result-container {\n",
       "    max-height: 300px;\n",
       "    overflow: auto;\n",
       "  }\n",
       "  table, th, td {\n",
       "    border: 1px solid black;\n",
       "    border-collapse: collapse;\n",
       "  }\n",
       "  th, td {\n",
       "    padding: 5px;\n",
       "  }\n",
       "  th {\n",
       "    text-align: left;\n",
       "  }\n",
       "</style><div class='table-result-container'><table class='table-result'><thead style='background-color: white'><tr><th>path</th><th>name</th><th>size</th><th>modificationTime</th></tr></thead><tbody><tr><td>dbfs:/FileStore/tables/customers_20220101__1_-1.csv</td><td>customers_20220101__1_-1.csv</td><td>25586</td><td>1739642932000</td></tr><tr><td>dbfs:/FileStore/tables/customers_20220101__1_-2.csv</td><td>customers_20220101__1_-2.csv</td><td>25586</td><td>1739643718000</td></tr><tr><td>dbfs:/FileStore/tables/customers_20220101__1_.csv</td><td>customers_20220101__1_.csv</td><td>25586</td><td>1739606509000</td></tr><tr><td>dbfs:/FileStore/tables/customers_20220108__1_-1.csv</td><td>customers_20220108__1_-1.csv</td><td>300</td><td>1739642789000</td></tr><tr><td>dbfs:/FileStore/tables/customers_20220108__1_-2.csv</td><td>customers_20220108__1_-2.csv</td><td>300</td><td>1739643662000</td></tr><tr><td>dbfs:/FileStore/tables/customers_20220108__1_-3.csv</td><td>customers_20220108__1_-3.csv</td><td>300</td><td>1739643671000</td></tr><tr><td>dbfs:/FileStore/tables/customers_20220108__1_.csv</td><td>customers_20220108__1_.csv</td><td>300</td><td>1739606590000</td></tr><tr><td>dbfs:/FileStore/tables/dates__1_-1.csv</td><td>dates__1_-1.csv</td><td>1604469</td><td>1739643610000</td></tr><tr><td>dbfs:/FileStore/tables/dates__1_.csv</td><td>dates__1_.csv</td><td>1604469</td><td>1739642657000</td></tr><tr><td>dbfs:/FileStore/tables/products_20220101__1_-1.csv</td><td>products_20220101__1_-1.csv</td><td>4541</td><td>1739642550000</td></tr><tr><td>dbfs:/FileStore/tables/products_20220101__1_-2.csv</td><td>products_20220101__1_-2.csv</td><td>4541</td><td>1739643560000</td></tr><tr><td>dbfs:/FileStore/tables/products_20220101__1_.csv</td><td>products_20220101__1_.csv</td><td>4541</td><td>1739606719000</td></tr><tr><td>dbfs:/FileStore/tables/products_20220108__1_-1.csv</td><td>products_20220108__1_-1.csv</td><td>790</td><td>1739643502000</td></tr><tr><td>dbfs:/FileStore/tables/products_20220108__1_.csv</td><td>products_20220108__1_.csv</td><td>790</td><td>1739642441000</td></tr><tr><td>dbfs:/FileStore/tables/sales_20220101__1_.csv</td><td>sales_20220101__1_.csv</td><td>25425</td><td>1739641580000</td></tr><tr><td>dbfs:/FileStore/tables/sales_20220101__2_-1.csv</td><td>sales_20220101__2_-1.csv</td><td>25425</td><td>1739642107000</td></tr><tr><td>dbfs:/FileStore/tables/sales_20220101__2_-2.csv</td><td>sales_20220101__2_-2.csv</td><td>25425</td><td>1739643449000</td></tr><tr><td>dbfs:/FileStore/tables/sales_20220101__2_.csv</td><td>sales_20220101__2_.csv</td><td>25425</td><td>1739641580000</td></tr><tr><td>dbfs:/FileStore/tables/sales_20220108__3_-1.csv</td><td>sales_20220108__3_-1.csv</td><td>25767</td><td>1739642017000</td></tr><tr><td>dbfs:/FileStore/tables/sales_20220108__3_-2.csv</td><td>sales_20220108__3_-2.csv</td><td>25767</td><td>1739643393000</td></tr><tr><td>dbfs:/FileStore/tables/sales_20220108__3_.csv</td><td>sales_20220108__3_.csv</td><td>25767</td><td>1739641580000</td></tr><tr><td>dbfs:/FileStore/tables/stores_20220101__4_-1.csv</td><td>stores_20220101__4_-1.csv</td><td>1405</td><td>1739641845000</td></tr><tr><td>dbfs:/FileStore/tables/stores_20220101__4_-2.csv</td><td>stores_20220101__4_-2.csv</td><td>1405</td><td>1739641952000</td></tr><tr><td>dbfs:/FileStore/tables/stores_20220101__4_-3.csv</td><td>stores_20220101__4_-3.csv</td><td>1405</td><td>1739642185000</td></tr><tr><td>dbfs:/FileStore/tables/stores_20220101__4_-4.csv</td><td>stores_20220101__4_-4.csv</td><td>1405</td><td>1739643363000</td></tr><tr><td>dbfs:/FileStore/tables/stores_20220101__4_.csv</td><td>stores_20220101__4_.csv</td><td>1405</td><td>1739641579000</td></tr><tr><td>dbfs:/FileStore/tables/stores_20220108__2_-1.csv</td><td>stores_20220108__2_-1.csv</td><td>537</td><td>1739641845000</td></tr><tr><td>dbfs:/FileStore/tables/stores_20220108__2_-2.csv</td><td>stores_20220108__2_-2.csv</td><td>537</td><td>1739642354000</td></tr><tr><td>dbfs:/FileStore/tables/stores_20220108__2_-3.csv</td><td>stores_20220108__2_-3.csv</td><td>537</td><td>1739643215000</td></tr><tr><td>dbfs:/FileStore/tables/stores_20220108__2_-4.csv</td><td>stores_20220108__2_-4.csv</td><td>537</td><td>1739643257000</td></tr><tr><td>dbfs:/FileStore/tables/stores_20220108__2_.csv</td><td>stores_20220108__2_.csv</td><td>537</td><td>1739641579000</td></tr></tbody></table></div>"
      ]
     },
     "metadata": {
      "application/vnd.databricks.v1+output": {
       "addedWidgets": {},
       "aggData": [],
       "aggError": "",
       "aggOverflow": false,
       "aggSchema": [],
       "aggSeriesLimitReached": false,
       "aggType": "",
       "arguments": {},
       "columnCustomDisplayInfos": {},
       "data": [
        [
         "dbfs:/FileStore/tables/customers_20220101__1_-1.csv",
         "customers_20220101__1_-1.csv",
         25586,
         1739642932000
        ],
        [
         "dbfs:/FileStore/tables/customers_20220101__1_-2.csv",
         "customers_20220101__1_-2.csv",
         25586,
         1739643718000
        ],
        [
         "dbfs:/FileStore/tables/customers_20220101__1_.csv",
         "customers_20220101__1_.csv",
         25586,
         1739606509000
        ],
        [
         "dbfs:/FileStore/tables/customers_20220108__1_-1.csv",
         "customers_20220108__1_-1.csv",
         300,
         1739642789000
        ],
        [
         "dbfs:/FileStore/tables/customers_20220108__1_-2.csv",
         "customers_20220108__1_-2.csv",
         300,
         1739643662000
        ],
        [
         "dbfs:/FileStore/tables/customers_20220108__1_-3.csv",
         "customers_20220108__1_-3.csv",
         300,
         1739643671000
        ],
        [
         "dbfs:/FileStore/tables/customers_20220108__1_.csv",
         "customers_20220108__1_.csv",
         300,
         1739606590000
        ],
        [
         "dbfs:/FileStore/tables/dates__1_-1.csv",
         "dates__1_-1.csv",
         1604469,
         1739643610000
        ],
        [
         "dbfs:/FileStore/tables/dates__1_.csv",
         "dates__1_.csv",
         1604469,
         1739642657000
        ],
        [
         "dbfs:/FileStore/tables/products_20220101__1_-1.csv",
         "products_20220101__1_-1.csv",
         4541,
         1739642550000
        ],
        [
         "dbfs:/FileStore/tables/products_20220101__1_-2.csv",
         "products_20220101__1_-2.csv",
         4541,
         1739643560000
        ],
        [
         "dbfs:/FileStore/tables/products_20220101__1_.csv",
         "products_20220101__1_.csv",
         4541,
         1739606719000
        ],
        [
         "dbfs:/FileStore/tables/products_20220108__1_-1.csv",
         "products_20220108__1_-1.csv",
         790,
         1739643502000
        ],
        [
         "dbfs:/FileStore/tables/products_20220108__1_.csv",
         "products_20220108__1_.csv",
         790,
         1739642441000
        ],
        [
         "dbfs:/FileStore/tables/sales_20220101__1_.csv",
         "sales_20220101__1_.csv",
         25425,
         1739641580000
        ],
        [
         "dbfs:/FileStore/tables/sales_20220101__2_-1.csv",
         "sales_20220101__2_-1.csv",
         25425,
         1739642107000
        ],
        [
         "dbfs:/FileStore/tables/sales_20220101__2_-2.csv",
         "sales_20220101__2_-2.csv",
         25425,
         1739643449000
        ],
        [
         "dbfs:/FileStore/tables/sales_20220101__2_.csv",
         "sales_20220101__2_.csv",
         25425,
         1739641580000
        ],
        [
         "dbfs:/FileStore/tables/sales_20220108__3_-1.csv",
         "sales_20220108__3_-1.csv",
         25767,
         1739642017000
        ],
        [
         "dbfs:/FileStore/tables/sales_20220108__3_-2.csv",
         "sales_20220108__3_-2.csv",
         25767,
         1739643393000
        ],
        [
         "dbfs:/FileStore/tables/sales_20220108__3_.csv",
         "sales_20220108__3_.csv",
         25767,
         1739641580000
        ],
        [
         "dbfs:/FileStore/tables/stores_20220101__4_-1.csv",
         "stores_20220101__4_-1.csv",
         1405,
         1739641845000
        ],
        [
         "dbfs:/FileStore/tables/stores_20220101__4_-2.csv",
         "stores_20220101__4_-2.csv",
         1405,
         1739641952000
        ],
        [
         "dbfs:/FileStore/tables/stores_20220101__4_-3.csv",
         "stores_20220101__4_-3.csv",
         1405,
         1739642185000
        ],
        [
         "dbfs:/FileStore/tables/stores_20220101__4_-4.csv",
         "stores_20220101__4_-4.csv",
         1405,
         1739643363000
        ],
        [
         "dbfs:/FileStore/tables/stores_20220101__4_.csv",
         "stores_20220101__4_.csv",
         1405,
         1739641579000
        ],
        [
         "dbfs:/FileStore/tables/stores_20220108__2_-1.csv",
         "stores_20220108__2_-1.csv",
         537,
         1739641845000
        ],
        [
         "dbfs:/FileStore/tables/stores_20220108__2_-2.csv",
         "stores_20220108__2_-2.csv",
         537,
         1739642354000
        ],
        [
         "dbfs:/FileStore/tables/stores_20220108__2_-3.csv",
         "stores_20220108__2_-3.csv",
         537,
         1739643215000
        ],
        [
         "dbfs:/FileStore/tables/stores_20220108__2_-4.csv",
         "stores_20220108__2_-4.csv",
         537,
         1739643257000
        ],
        [
         "dbfs:/FileStore/tables/stores_20220108__2_.csv",
         "stores_20220108__2_.csv",
         537,
         1739641579000
        ]
       ],
       "datasetInfos": [],
       "dbfsResultPath": null,
       "isJsonSchema": true,
       "metadata": {},
       "overflow": false,
       "plotOptions": {
        "customPlotOptions": {},
        "displayType": "table",
        "pivotAggregation": null,
        "pivotColumns": null,
        "xColumns": null,
        "yColumns": null
       },
       "removedWidgets": [],
       "schema": [
        {
         "metadata": "{}",
         "name": "path",
         "type": "\"string\""
        },
        {
         "metadata": "{}",
         "name": "name",
         "type": "\"string\""
        },
        {
         "metadata": "{}",
         "name": "size",
         "type": "\"long\""
        },
        {
         "metadata": "{}",
         "name": "modificationTime",
         "type": "\"long\""
        }
       ],
       "type": "table"
      }
     },
     "output_type": "display_data"
    }
   ],
   "source": [
    "display(dbutils.fs.ls(\"dbfs:/FileStore/tables\"))"
   ]
  },
  {
   "cell_type": "markdown",
   "metadata": {
    "application/vnd.databricks.v1+cell": {
     "cellMetadata": {},
     "inputWidgets": {},
     "nuid": "b1c9510f-1a59-4ce4-9120-2a9e4e3611f6",
     "showTitle": false,
     "tableResultSettingsMap": {},
     "title": ""
    }
   },
   "source": [
    "Applying SCD on dataframe"
   ]
  },
  {
   "cell_type": "code",
   "execution_count": 0,
   "metadata": {
    "application/vnd.databricks.v1+cell": {
     "cellMetadata": {
      "byteLimit": 2048000,
      "rowLimit": 10000
     },
     "inputWidgets": {},
     "nuid": "14c35c59-aaa4-460d-a0bf-972abac07511",
     "showTitle": false,
     "tableResultSettingsMap": {},
     "title": ""
    }
   },
   "outputs": [
    {
     "output_type": "stream",
     "name": "stdout",
     "output_type": "stream",
     "text": [
      "+-----------+-----------------+--------------------+--------------------+---------+----------+----------+\n|customer_id|             name|               email|             address|is_active|start_date|  end_date|\n+-----------+-----------------+--------------------+--------------------+---------+----------+----------+\n|          1|  Stephanie Brown|howardalejandra@e...|8273 Jerry Pine\\n...|        0|      null|2025-02-16|\n|         10|       Joy Cortez|  jodi66@example.org|PSC 8677, Box 936...|        0|      null|2025-02-16|\n|        100|       Tyler Wade|simonchristina@ex...|594 Williams Junc...|        0|      null|2025-02-16|\n|        101|Justin Washington|michael47@example...|PSC 6526, Box 586...|        0|      null|2025-02-16|\n|        102|   William Thomas|rhodesmelissa@exa...|663 Jacob Prairie...|        0|      null|2025-02-16|\n+-----------+-----------------+--------------------+--------------------+---------+----------+----------+\nonly showing top 5 rows\n\n+----------+------+------------------+------------------+----------+-------------+---------+----------+----------+\n|product_id|  type|               SKU|              name|sale_price|regular_price|is_active|start_date|  end_date|\n+----------+------+------------------+------------------+----------+-------------+---------+----------+----------+\n|        50|simple|               cap|               Cap|        16|           18|        0|      null|2025-02-16|\n|        51|simple|        sunglasses|        Sunglasses|      null|           90|        0|      null|2025-02-16|\n|        52|simple|hoodie-with-pocket|Hoodie with Pocket|        35|           45|        0|      null|2025-02-16|\n|        53|simple|hoodie-with-zipper|Hoodie with Zipper|      null|           45|        0|      null|2025-02-16|\n|        54|simple|   long-sleeve-tee|   Long Sleeve Tee|      null|           25|        0|      null|2025-02-16|\n+----------+------+------------------+------------------+----------+-------------+---------+----------+----------+\nonly showing top 5 rows\n\n+--------+------------+-----------------+--------------------+---------+--------------------+--------------+---------+----------+----------+\n|store_id|business_key|             name|               email|     city|             address|  phone_number|is_active|start_date|  end_date|\n+--------+------------+-----------------+--------------------+---------+--------------------+--------------+---------+----------+----------+\n|       1|       BNE02| Brisbane Airport|castillojoseph@ex...| Brisbane|6 Ware Copse Doug...|  0425.061.371|        0|      null|2025-02-16|\n|       2|       PER01|        Perth CBD|yhernandez@exampl...|    Perth|Level 2 95 Jorge ...|  08-9854-6006|        0|      null|2025-02-16|\n|       3|       CBR01| Canberra Airport|feliciasalas@exam...| Canberra|5 Julie Reach Lak...|  0495-403-281|        0|      null|2025-02-16|\n|       4|       MEL01|    Melbourne CBD|  lori00@example.net|Melbourne|3 Tiffany Round S...|(02) 6391 6842|        0|      null|2025-02-16|\n|       5|       MEL02|Melbourne Airport|moralesbrandon@ex...|Melbourne|57 Bryan Circuit ...|    0777304662|        0|      null|2025-02-16|\n+--------+------------+-----------------+--------------------+---------+--------------------+--------------+---------+----------+----------+\nonly showing top 5 rows\n\n+-----------+-----------+----------------+--------+-------+--------+-----------+\n|    sale_id|customer_id|      product_id|store_id|date_id|quantity|total_price|\n+-----------+-----------+----------------+--------+-------+--------+-----------+\n|S8000000005|        169|          beanie|   MEL02| 1/1/22|   10.35|   IN-STORE|\n|S8000000006|        169|            belt|   AKL01| 1/1/22|   69.63|   IN-STORE|\n|S8000000001|        169|       vneck-tee|   BNE02| 1/1/22|   52.96|   IN-STORE|\n|S8000000003|         40|hoodie-with-logo|   CBR01| 1/1/22|   41.20|   IN-STORE|\n|S8000000002|         20|          hoodie|   PER01| 1/1/22|   98.91|   IN-STORE|\n+-----------+-----------+----------------+--------+-------+--------+-----------+\nonly showing top 5 rows\n\n"
     ]
    }
   ],
   "source": [
    "from pyspark.sql import SparkSession\n",
    "from pyspark.sql.functions import col, lit, when, current_date,coalesce\n",
    "from pyspark.sql.types import StructType, StructField, StringType, IntegerType\n",
    "\n",
    "# Initialize Spark session\n",
    "spark = SparkSession.builder.appName(\"SCD2Processing\").getOrCreate()\n",
    "dimension_schema = {\n",
    "    \"customers\": StructType([\n",
    "        StructField(\"customer_id\", StringType(), True),\n",
    "        StructField(\"name\", StringType(), True),\n",
    "        StructField(\"email\", StringType(), True),\n",
    "        StructField(\"address\", StringType(), True),\n",
    "        StructField(\"created_date\", StringType(), True),\n",
    "        StructField(\"updated_date\", StringType(), True),\n",
    "        StructField(\"is_active\", IntegerType(), True),\n",
    "        StructField(\"start_date\", StringType(), True),\n",
    "        StructField(\"end_date\", StringType(), True)\n",
    "    ]),\n",
    "    \"products\": StructType([\n",
    "        StructField(\"product_id\", StringType(), True),\n",
    "        StructField(\"type\", StringType(), True),\n",
    "        StructField(\"SKU\", StringType(), True),\n",
    "        StructField(\"name\", StringType(), True),\n",
    "        StructField(\"published\", StringType(), True),\n",
    "        StructField(\"is_featured\", StringType(), True),\n",
    "        StructField(\"visibility_in_catalog\", StringType(), True),\n",
    "        StructField(\"short_description\", StringType(), True),\n",
    "        StructField(\"description\", StringType(), True),\n",
    "        StructField(\"weight_lbs\", StringType(), True),\n",
    "        StructField(\"created_date\", StringType(), True),\n",
    "        StructField(\"updated_date\", StringType(), True),\n",
    "        StructField(\"length_in\", StringType(), True),\n",
    "        StructField(\"width_in\", StringType(), True),\n",
    "        StructField(\"height_in\", StringType(), True),\n",
    "        StructField(\"sale_price\", StringType(), True),\n",
    "        StructField(\"regular_price\", StringType(), True),\n",
    "        StructField(\"categories\", StringType(), True),\n",
    "        StructField(\"is_active\", IntegerType(), True),\n",
    "        StructField(\"start_date\", StringType(), True),\n",
    "        StructField(\"end_date\", StringType(), True)\n",
    "    ]),\n",
    "    \"stores\": StructType([\n",
    "        StructField(\"store_id\", StringType(), True),\n",
    "        StructField(\"business_key\", StringType(), True),\n",
    "        StructField(\"name\", StringType(), True),\n",
    "        StructField(\"email\", StringType(), True),\n",
    "        StructField(\"city\", StringType(), True),\n",
    "        StructField(\"address\", StringType(), True),\n",
    "        StructField(\"phone_number\", StringType(), True),\n",
    "        StructField(\"created_date\", StringType(), True),\n",
    "        StructField(\"updated_date\", StringType(), True),\n",
    "        StructField(\"is_active\", IntegerType(), True),\n",
    "        StructField(\"start_date\", StringType(), True),\n",
    "        StructField(\"end_date\", StringType(), True)\n",
    "    ]),\n",
    "    \"dates\": StructType([\n",
    "        StructField(\"date_id\", StringType(), True),\n",
    "        StructField(\"date_num\", StringType(), True),\n",
    "        StructField(\"date\", StringType(), True),\n",
    "        StructField(\"year_month_number\", StringType(), True),\n",
    "        StructField(\"calendar_quarter\", StringType(), True),\n",
    "        StructField(\"month_num\", StringType(), True),\n",
    "        StructField(\"month_name\", StringType(), True),\n",
    "        StructField(\"month_short_name\", StringType(), True),\n",
    "        StructField(\"week_num\", StringType(), True),\n",
    "        StructField(\"day_num_of_year\", StringType(), True),\n",
    "        StructField(\"day_num_of_month\", StringType(), True),\n",
    "        StructField(\"day_num_of_week\", StringType(), True),\n",
    "        StructField(\"day_name\", StringType(), True),\n",
    "        StructField(\"day_short_name\", StringType(), True),\n",
    "        StructField(\"quarter\", StringType(), True),\n",
    "        StructField(\"year_quarter_num\", StringType(), True),\n",
    "        StructField(\"day_num_of_quarter\", StringType(), True)\n",
    "    ])\n",
    "}\n",
    "\n",
    "# Load function\n",
    "def load_dimension(name, path):\n",
    "    return spark.read.csv(path, header=True,multiLine=True, schema=dimension_schema[name])\n",
    "# Load initial and updated dimension tables\n",
    "dim_customers_old = load_dimension(\"customers\", \"dbfs:/FileStore/tables/customers_20220101__1_.csv\")\n",
    "dim_customers_new = load_dimension(\"customers\", \"dbfs:/FileStore/tables/customers_20220108__1_.csv\")\n",
    "\n",
    "dim_products_old = load_dimension(\"products\", \"dbfs:/FileStore/tables/products_20220101__1_.csv\")\n",
    "dim_products_new = load_dimension(\"products\", \"dbfs:/FileStore/tables/products_20220108__1_.csv\")\n",
    "dim_dates = load_dimension(\"dates\", \"dbfs:/FileStore/tables/dates__1_.csv\")\n",
    "dim_stores_old = load_dimension(\"stores\", \"dbfs:/FileStore/tables/stores_20220101__4_.csv\")\n",
    "dim_stores_new = load_dimension(\"stores\", \"dbfs:/FileStore/tables/stores_20220108__2_.csv\")\n",
    "# Function to apply SCD Type \n",
    "def apply_scd2(old_df, new_df, key_col, attribute_cols):\n",
    "    old_df = old_df.alias(\"old\")\n",
    "    new_df = new_df.alias(\"new\")\n",
    "\n",
    "    # 🛑 **Step 1: Remove exact duplicates before processing**\n",
    "    deduplicated_new_df = new_df.join(old_df, [key_col] + attribute_cols, \"left_anti\")\n",
    "\n",
    "    # 🛑 **Step 2: Outer Join old and new data on key column**\n",
    "    merged_df = old_df.join(deduplicated_new_df, key_col, \"outer\")\n",
    "\n",
    "    # 🛑 **Step 3: Detect changed records**\n",
    "    change_condition = lit(False)\n",
    "    for col_name in attribute_cols:\n",
    "        change_condition = change_condition | (coalesce(col(f\"old.{col_name}\"), lit(\"null\")) != coalesce(col(f\"new.{col_name}\"), lit(\"null\")))\n",
    "\n",
    "    updated_df = merged_df.withColumn(\"is_changed\", when(change_condition, lit(1)).otherwise(lit(0)))\n",
    "\n",
    "    # 🛑 **Step 4: Mark old records as inactive**\n",
    "    old_inactive = updated_df.filter(col(\"is_changed\") == 1).select(\n",
    "        col(f\"old.{key_col}\").alias(key_col),\n",
    "        *[col(f\"old.{col_name}\") for col_name in attribute_cols],\n",
    "        lit(0).alias(\"is_active\"),  # ✅ Set old record as inactive\n",
    "        col(\"old.start_date\"),\n",
    "        current_date().alias(\"end_date\")\n",
    "    )\n",
    "\n",
    "    # 🛑 **Step 5: Insert new records as active**\n",
    "    new_active = deduplicated_new_df.withColumn(\"is_active\", lit(1)) \\\n",
    "        .withColumn(\"start_date\", current_date()) \\\n",
    "        .withColumn(\"end_date\", lit(None)) \\\n",
    "        .select(old_inactive.columns)  # ✅ Ensure column order consistency\n",
    "\n",
    "    # 🛑 **Step 6: Keep unchanged records with active status**\n",
    "    unchanged = old_df.join(\n",
    "        old_inactive.select(key_col), key_col, \"leftanti\"\n",
    "    ).select(\n",
    "        col(key_col),\n",
    "        *[col(attr) for attr in attribute_cols],\n",
    "        lit(1).alias(\"is_active\"),  # ✅ Keep original records active\n",
    "        when(col(\"start_date\").isNull(), current_date()).otherwise(col(\"start_date\")).alias(\"start_date\"),\n",
    "        col(\"end_date\")\n",
    "    )\n",
    "\n",
    "    # 🛑 **Step 7: Union all results**\n",
    "    final_df = unchanged.union(old_inactive).union(new_active)\n",
    "\n",
    "    # 🛑 **Step 8: Ensure no null values in `is_active`**\n",
    "    final_df = final_df.withColumn(\"is_active\", when(col(\"is_active\").isNull(), lit(1)).otherwise(col(\"is_active\")))\n",
    "\n",
    "    return final_df\n",
    "def apply_scd2_old(old_df, new_df, key_col, attribute_cols):\n",
    "    old_df = old_df.alias(\"old\")\n",
    "    new_df = new_df.alias(\"new\")\n",
    "\n",
    "    # Join old and new data on key column\n",
    "    merged_df = old_df.join(new_df, key_col, \"outer\")\n",
    "\n",
    "    # Detect changed records\n",
    "    change_condition = lit(False)\n",
    "    for col_name in attribute_cols:\n",
    "        change_condition = change_condition | (col(f\"old.{col_name}\") != col(f\"new.{col_name}\"))\n",
    "\n",
    "    updated_df = merged_df.withColumn(\"is_changed\", when(change_condition, lit(1)).otherwise(lit(0)))\n",
    "\n",
    "    # Mark old records as inactive\n",
    "    old_inactive = updated_df.filter(col(\"is_changed\") == 1).select(\n",
    "        col(f\"old.{key_col}\").alias(key_col),\n",
    "        *[col(f\"old.{col_name}\") for col_name in attribute_cols],\n",
    "        lit(0).alias(\"is_active\"),  # Explicitly set inactive records\n",
    "        col(\"old.start_date\"),\n",
    "        current_date().alias(\"end_date\")\n",
    "    )\n",
    "\n",
    "    # Insert new records as active\n",
    "    new_active = new_df.withColumn(\"is_active\", lit(1)) \\\n",
    "        .withColumn(\"start_date\", current_date()) \\\n",
    "        .withColumn(\"end_date\", lit(None)) \\\n",
    "        .select(old_inactive.columns)\n",
    "\n",
    "    # Keep unchanged records\n",
    "    unchanged = old_df.join(\n",
    "        old_inactive.select(key_col), key_col, \"leftanti\"\n",
    "    ).select(\n",
    "        col(key_col),\n",
    "        *[col(attr) for attr in attribute_cols],\n",
    "        lit(1).alias(\"is_active\"),  # Explicitly set default as active\n",
    "        when(col(\"start_date\").isNull(), current_date()).otherwise(col(\"start_date\")).alias(\"start_date\"),\n",
    "        col(\"end_date\")\n",
    "    )\n",
    "\n",
    "    # Union all results\n",
    "    final_df = unchanged.union(old_inactive).union(new_active)\n",
    "\n",
    "    # **Ensure no null values in is_active**\n",
    "    final_df = final_df.withColumn(\"is_active\", when(col(\"is_active\").isNull(), lit(1)).otherwise(col(\"is_active\")))\n",
    "\n",
    "    return final_df\n",
    "# Define attribute columns for each dimension\n",
    "customer_attributes = [\"name\", \"email\", \"address\"]\n",
    "product_attributes = [\"type\", \"SKU\", \"name\", \"sale_price\", \"regular_price\"]\n",
    "store_attributes = [\"business_key\", \"name\", \"email\", \"city\", \"address\", \"phone_number\"]\n",
    "\n",
    "# Apply SCD2 on dimensions\n",
    "dim_customers_final = apply_scd2(dim_customers_old, dim_customers_new, \"customer_id\", customer_attributes)\n",
    "dim_products_final = apply_scd2(dim_products_old, dim_products_new, \"product_id\", product_attributes)\n",
    "dim_stores_final = apply_scd2(dim_stores_old, dim_stores_new, \"store_id\", store_attributes)\n",
    "# Fact table schema\n",
    "fact_schema = StructType([\n",
    "    StructField(\"sale_id\", StringType(), True),\n",
    "    StructField(\"customer_id\", StringType(), True),\n",
    "    StructField(\"product_id\", StringType(), True),\n",
    "    StructField(\"store_id\", StringType(), True),\n",
    "    StructField(\"date_id\", StringType(), True),\n",
    "    StructField(\"quantity\", StringType(), True),\n",
    "    StructField(\"total_price\", StringType(), True)\n",
    "])\n",
    "\n",
    "# Load fact tables\n",
    "fact_sales_old = spark.read.csv(\"dbfs:/FileStore/tables/sales_20220101__2_.csv\", header=True, schema=fact_schema)\n",
    "fact_sales_new = spark.read.csv(\"dbfs:/FileStore/tables/sales_20220108__3_.csv\", header=True, schema=fact_schema)\n",
    "\n",
    "# Deduplicate and merge fact sales\n",
    "fact_sales_final = fact_sales_old.union(fact_sales_new).dropDuplicates()\n",
    "\n",
    "# Show updated data\n",
    "dim_customers_final.show(5)\n",
    "dim_products_final.show(5)\n",
    "dim_stores_final.show(5)\n",
    "fact_sales_final.show(5)\n"
   ]
  },
  {
   "cell_type": "markdown",
   "metadata": {
    "application/vnd.databricks.v1+cell": {
     "cellMetadata": {},
     "inputWidgets": {},
     "nuid": "de30866a-d535-46b4-a1bf-3eaeda692742",
     "showTitle": false,
     "tableResultSettingsMap": {},
     "title": ""
    }
   },
   "source": [
    "Check newly added record\n"
   ]
  },
  {
   "cell_type": "code",
   "execution_count": 0,
   "metadata": {
    "application/vnd.databricks.v1+cell": {
     "cellMetadata": {
      "byteLimit": 2048000,
      "rowLimit": 10000
     },
     "inputWidgets": {},
     "nuid": "71fc9ff0-54f8-4e82-9e7d-5bd640389dd6",
     "showTitle": false,
     "tableResultSettingsMap": {},
     "title": ""
    }
   },
   "outputs": [
    {
     "output_type": "stream",
     "name": "stdout",
     "output_type": "stream",
     "text": [
      "+-----------+------------------+---------------------------+-------------------+---------+----------+--------+\n|customer_id|name              |email                      |address            |is_active|start_date|end_date|\n+-----------+------------------+---------------------------+-------------------+---------+----------+--------+\n|1          |Stephanie Brown   |howardalejandra@example.com|2021-10-01 00:00:00|1        |2025-02-16|null    |\n|2          |Christopher Cooper|campbelljohn@example.com   |2021-10-01 00:00:00|1        |2025-02-16|null    |\n|3          |Daniel White      |colonricardo@example.com   |2021-10-01 00:00:00|1        |2025-02-16|null    |\n+-----------+------------------+---------------------------+-------------------+---------+----------+--------+\n\n+----------+--------+-------------------+-------------------+----------+-------------+---------+----------+--------+\n|product_id|type    |SKU                |name               |sale_price|regular_price|is_active|start_date|end_date|\n+----------+--------+-------------------+-------------------+----------+-------------+---------+----------+--------+\n|69        |variable|vneck-tee          |V-Neck T-Shirt v2  |null      |null         |1        |2025-02-16|null    |\n|70        |variable|hoodie             |Hoodie v2          |null      |null         |1        |2025-02-16|null    |\n|71        |simple  |hoodie-with-logo-v2|Hoodie with Logo v2|null      |45           |1        |2025-02-16|null    |\n+----------+--------+-------------------+-------------------+----------+-------------+---------+----------+--------+\n\n+--------+------------+-------------------+--------------------------+--------+----------------------------------------+------------+---------+----------+--------+\n|store_id|business_key|name               |email                     |city    |address                                 |phone_number|is_active|start_date|end_date|\n+--------+------------+-------------------+--------------------------+--------+----------------------------------------+------------+---------+----------+--------+\n|1       |BNE02       |Brisbane Airport V2|castillojoseph@example.net|Brisbane|6 Ware Copse Doughertystad, NSW, 2687   |0425.061.371|1        |2025-02-16|null    |\n|2       |PER01       |Perth CBD V2       |yhernandez@example.com    |Perth   |Level 2 95 Jorge Vale St. Gary, NT, 2705|08-9854-6006|1        |2025-02-16|null    |\n+--------+------------+-------------------+--------------------------+--------+----------------------------------------+------------+---------+----------+--------+\n\n"
     ]
    }
   ],
   "source": [
    "newly_inserted = dim_customers_final.filter(col(\"start_date\") == current_date())\n",
    "newly_inserted.show(truncate=False)\n",
    "newly_inserted_prod = dim_products_final.filter(col(\"start_date\") == current_date())\n",
    "newly_inserted_prod.show(truncate=False)\n",
    "newly_inserted_store = dim_stores_final.filter(col(\"start_date\") == current_date())\n",
    "newly_inserted_store.show(truncate=False)"
   ]
  },
  {
   "cell_type": "markdown",
   "metadata": {
    "application/vnd.databricks.v1+cell": {
     "cellMetadata": {},
     "inputWidgets": {},
     "nuid": "a64bb558-df6d-4474-86e6-bd9cd59a61fa",
     "showTitle": false,
     "tableResultSettingsMap": {},
     "title": ""
    }
   },
   "source": [
    " Check Inactive (Old) Records"
   ]
  },
  {
   "cell_type": "code",
   "execution_count": 0,
   "metadata": {
    "application/vnd.databricks.v1+cell": {
     "cellMetadata": {
      "byteLimit": 2048000,
      "rowLimit": 10000
     },
     "inputWidgets": {},
     "nuid": "ebf00f65-1966-436c-9066-7ffdefb58402",
     "showTitle": false,
     "tableResultSettingsMap": {},
     "title": ""
    }
   },
   "outputs": [
    {
     "output_type": "stream",
     "name": "stdout",
     "output_type": "stream",
     "text": [
      "+-----------+------------------+--------------------+--------------------+---------+----------+----------+\n|customer_id|              name|               email|             address|is_active|start_date|  end_date|\n+-----------+------------------+--------------------+--------------------+---------+----------+----------+\n|          1|   Stephanie Brown|howardalejandra@e...|8273 Jerry Pine\\n...|        0|      null|2025-02-16|\n|         10|        Joy Cortez|  jodi66@example.org|PSC 8677, Box 936...|        0|      null|2025-02-16|\n|        100|        Tyler Wade|simonchristina@ex...|594 Williams Junc...|        0|      null|2025-02-16|\n|        101| Justin Washington|michael47@example...|PSC 6526, Box 586...|        0|      null|2025-02-16|\n|        102|    William Thomas|rhodesmelissa@exa...|663 Jacob Prairie...|        0|      null|2025-02-16|\n|        103|         Jerry Lin| katie09@example.org|PSC 1535, Box 848...|        0|      null|2025-02-16|\n|        104|    Jeffrey Newton|gonzalesjacob@exa...|69354 Tanner Port...|        0|      null|2025-02-16|\n|        105|       Brian Brown|johnstonchristoph...|771 Waters Keys\\n...|        0|      null|2025-02-16|\n|        106|    Charles Cooper|ricardo01@example...|98849 Nancy Strav...|        0|      null|2025-02-16|\n|        107|       Tammy Vance|wallacechristophe...|USCGC French\\nFPO...|        0|      null|2025-02-16|\n|        108|     Timothy Huber| xthomas@example.com|34789 Shelia Mill...|        0|      null|2025-02-16|\n|        109|   Rebecca Jackson|krista26@example.com|7654 Henry Center...|        0|      null|2025-02-16|\n|         11|    Rachel Rosales|grahamlisa@exampl...|38818 Gregory Isl...|        0|      null|2025-02-16|\n|        110|Ms. Theresa Nguyen|guzmanjennifer@ex...|9503 Ryan Haven A...|        0|      null|2025-02-16|\n|        111|   Michael Stevens|brobinson@example...|5522 Steve Island...|        0|      null|2025-02-16|\n|        112|   Heather Hubbard|victoria22@exampl...|0246 Walker Ports...|        0|      null|2025-02-16|\n|        113|     Kevin Bradley|fguerrero@example...|542 Cherry Wells\\...|        0|      null|2025-02-16|\n|        114|     Brian Gregory|ramirezalexander@...|8257 Alvarez Glen...|        0|      null|2025-02-16|\n|        115|      Jackie Brown|stephenbishop@exa...|2479 Pitts Drive\\...|        0|      null|2025-02-16|\n|        116|    Robert Freeman|matthewwilliams@e...|89137 Green Cliff...|        0|      null|2025-02-16|\n+-----------+------------------+--------------------+--------------------+---------+----------+----------+\nonly showing top 20 rows\n\n+----------+--------------------+------------------+--------------------+----------+-------------+---------+----------+----------+\n|product_id|                type|               SKU|                name|sale_price|regular_price|is_active|start_date|  end_date|\n+----------+--------------------+------------------+--------------------+----------+-------------+---------+----------+----------+\n|        50|              simple|               cap|                 Cap|        16|           18|        0|      null|2025-02-16|\n|        51|              simple|        sunglasses|          Sunglasses|      null|           90|        0|      null|2025-02-16|\n|        52|              simple|hoodie-with-pocket|  Hoodie with Pocket|        35|           45|        0|      null|2025-02-16|\n|        53|              simple|hoodie-with-zipper|  Hoodie with Zipper|      null|           45|        0|      null|2025-02-16|\n|        54|              simple|   long-sleeve-tee|     Long Sleeve Tee|      null|           25|        0|      null|2025-02-16|\n|        55|              simple|              polo|                Polo|      null|           20|        0|      null|2025-02-16|\n|        56|simple, downloada...|             album|               Album|      null|           15|        0|      null|2025-02-16|\n|        57|simple, downloada...|            single|              Single|         2|            3|        0|      null|2025-02-16|\n|        58|           variation|     vneck-tee-red|V-Neck T-Shirt - Red|      null|           20|        0|      null|2025-02-16|\n|        59|           variation|   vneck-tee-green|V-Neck T-Shirt - ...|      null|           20|        0|      null|2025-02-16|\n|        60|           variation|    vneck-tee-blue|V-Neck T-Shirt - ...|      null|           15|        0|      null|2025-02-16|\n|        61|           variation|        hoodie-red|    Hoodie - Red, No|        42|           45|        0|      null|2025-02-16|\n|        62|           variation|      hoodie-green|  Hoodie - Green, No|      null|           45|        0|      null|2025-02-16|\n|        63|           variation|       hoodie-blue|   Hoodie - Blue, No|      null|           45|        0|      null|2025-02-16|\n|        64|              simple|       tshirt-logo|   T-Shirt with Logo|      null|           18|        0|      null|2025-02-16|\n|        65|              simple|       beanie-logo|    Beanie with Logo|        18|           20|        0|      null|2025-02-16|\n|        66|             grouped|   logo-collection|     Logo Collection|      null|         null|        0|      null|2025-02-16|\n|        67|            external|        wp-pennant|   WordPress Pennant|      null|        11.05|        0|      null|2025-02-16|\n|        68|           variation|  hoodie-blue-logo|  Hoodie - Blue, Yes|      null|           45|        0|      null|2025-02-16|\n|        69|            variable|         vneck-tee|      V-Neck T-Shirt|      null|         null|        0|      null|2025-02-16|\n+----------+--------------------+------------------+--------------------+----------+-------------+---------+----------+----------+\nonly showing top 20 rows\n\n+--------+------------+-----------------+--------------------+----------+--------------------+--------------+---------+----------+----------+\n|store_id|business_key|             name|               email|      city|             address|  phone_number|is_active|start_date|  end_date|\n+--------+------------+-----------------+--------------------+----------+--------------------+--------------+---------+----------+----------+\n|       1|       BNE02| Brisbane Airport|castillojoseph@ex...|  Brisbane|6 Ware Copse Doug...|  0425.061.371|        0|      null|2025-02-16|\n|       2|       PER01|        Perth CBD|yhernandez@exampl...|     Perth|Level 2 95 Jorge ...|  08-9854-6006|        0|      null|2025-02-16|\n|       3|       CBR01| Canberra Airport|feliciasalas@exam...|  Canberra|5 Julie Reach Lak...|  0495-403-281|        0|      null|2025-02-16|\n|       4|       MEL01|    Melbourne CBD|  lori00@example.net| Melbourne|3 Tiffany Round S...|(02) 6391 6842|        0|      null|2025-02-16|\n|       5|       MEL02|Melbourne Airport|moralesbrandon@ex...| Melbourne|57 Bryan Circuit ...|    0777304662|        0|      null|2025-02-16|\n|       6|       AKL01| Auckland Airport| nfuller@example.com|  Auckland|976 Reeves Street...|      666 5759|        0|      null|2025-02-16|\n|       7|       AKL02|     Auckland CBD|jeremysmith@examp...|  Auckland|85 Webb Street Ma...|  +64273484326|        0|      null|2025-02-16|\n|       8|       WLG01|   Wellington CBD|jonathan47@exampl...|Wellington|7 Rowland Reserve...|  (04) 4059380|        0|      null|2025-02-16|\n|       9|       SYD01|       Sydney CBD|wardchristopher@e...|    Sydney|Flat 95 2 Ernest ...|      44428748|        0|      null|2025-02-16|\n+--------+------------+-----------------+--------------------+----------+--------------------+--------------+---------+----------+----------+\n\n"
     ]
    }
   ],
   "source": [
    "inactive_records = dim_customers_final.filter(col(\"is_active\") == 0)\n",
    "inactive_records.show()\n",
    "inactive_records_prod = dim_products_final.filter(col(\"is_active\") == 0)\n",
    "inactive_records_prod.show()\n",
    "inactive_records_store = dim_stores_final.filter(col(\"is_active\") == 0)\n",
    "inactive_records_store.show()"
   ]
  },
  {
   "cell_type": "markdown",
   "metadata": {
    "application/vnd.databricks.v1+cell": {
     "cellMetadata": {},
     "inputWidgets": {},
     "nuid": "844f8875-eda7-48f8-a7c6-19b7b434fbe5",
     "showTitle": false,
     "tableResultSettingsMap": {},
     "title": ""
    }
   },
   "source": [
    "Saving Processed Data"
   ]
  },
  {
   "cell_type": "code",
   "execution_count": 0,
   "metadata": {
    "application/vnd.databricks.v1+cell": {
     "cellMetadata": {
      "byteLimit": 2048000,
      "rowLimit": 10000
     },
     "inputWidgets": {},
     "nuid": "0c2ffd94-fa39-4cf7-97ed-502772f85021",
     "showTitle": false,
     "tableResultSettingsMap": {},
     "title": ""
    }
   },
   "outputs": [],
   "source": [
    "# Save to Delta format (Best for SCD Type 2)\n",
    "dim_customers_final.write.format(\"delta\").mode(\"overwrite\").save(\"/mnt/data/dim_customers\")\n",
    "dim_products_final.write.format(\"delta\").mode(\"overwrite\").save(\"/mnt/data/dim_products\")\n",
    "dim_stores_final.write.format(\"delta\").mode(\"overwrite\").save(\"/mnt/data/dim_stores\")\n",
    "fact_sales_final.write.format(\"delta\").mode(\"overwrite\").save(\"/mnt/data/fact_sales\")\n"
   ]
  },
  {
   "cell_type": "code",
   "execution_count": 0,
   "metadata": {
    "application/vnd.databricks.v1+cell": {
     "cellMetadata": {
      "byteLimit": 2048000,
      "rowLimit": 10000
     },
     "inputWidgets": {},
     "nuid": "88722ef1-f276-4ad4-b9e2-370e9b7fc067",
     "showTitle": false,
     "tableResultSettingsMap": {},
     "title": ""
    }
   },
   "outputs": [],
   "source": [
    "# Save to Parquet format\n",
    "dim_customers_final.write.parquet(\"/mnt/data/dim_customers_parquet\", mode=\"overwrite\")\n",
    "dim_products_final.write.parquet(\"/mnt/data/dim_products_parquet\", mode=\"overwrite\")\n",
    "dim_stores_final.write.parquet(\"/mnt/data/dim_stores_parquet\", mode=\"overwrite\")\n",
    "fact_sales_final.write.parquet(\"/mnt/data/fact_sales_parquet\", mode=\"overwrite\")\n"
   ]
  }
 ],
 "metadata": {
  "application/vnd.databricks.v1+notebook": {
   "computePreferences": null,
   "dashboards": [],
   "environmentMetadata": {
    "base_environment": "",
    "client": "1"
   },
   "language": "python",
   "notebookMetadata": {
    "pythonIndentUnit": 4
   },
   "notebookName": "scd2 2025-02-15 23:41:48",
   "widgets": {}
  }
 },
 "nbformat": 4,
 "nbformat_minor": 0
}
